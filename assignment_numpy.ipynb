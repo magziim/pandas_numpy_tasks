{
 "cells": [
  {
   "cell_type": "markdown",
   "id": "d3df79dd",
   "metadata": {},
   "source": [
    "## Упражнения по библиотеке Numpy"
   ]
  },
  {
   "cell_type": "code",
   "execution_count": 1,
   "id": "76b9c43b",
   "metadata": {},
   "outputs": [],
   "source": [
    "import numpy as np"
   ]
  },
  {
   "cell_type": "markdown",
   "id": "07e81714",
   "metadata": {},
   "source": [
    "Дан случайный массив:"
   ]
  },
  {
   "cell_type": "code",
   "execution_count": 2,
   "id": "a95e0b58",
   "metadata": {},
   "outputs": [
    {
     "data": {
      "text/plain": [
       "array([6.54638139, 1.27003665, 2.48345063, 8.32362704, 5.61358312,\n",
       "       2.79302274, 4.64734012, 2.52197435, 1.14896786, 0.2018995 ])"
      ]
     },
     "execution_count": 2,
     "metadata": {},
     "output_type": "execute_result"
    }
   ],
   "source": [
    "# create array with random numbers from 0 to 10\n",
    "arr = 10 * np.random.sample((10,))\n",
    "arr"
   ]
  },
  {
   "cell_type": "markdown",
   "id": "03727b7c",
   "metadata": {},
   "source": [
    "**1.** Поменять знак у элементов, значения которых между 3 и 8"
   ]
  },
  {
   "cell_type": "code",
   "execution_count": 3,
   "id": "b89a7523",
   "metadata": {},
   "outputs": [
    {
     "data": {
      "text/plain": [
       "array([-6.54638139,  1.27003665,  2.48345063,  8.32362704, -5.61358312,\n",
       "        2.79302274, -4.64734012,  2.52197435,  1.14896786,  0.2018995 ])"
      ]
     },
     "execution_count": 3,
     "metadata": {},
     "output_type": "execute_result"
    }
   ],
   "source": [
    "arr = np.where((arr > 3) & (arr < 8), -arr, arr)\n",
    "arr"
   ]
  },
  {
   "cell_type": "markdown",
   "id": "5fa4abda",
   "metadata": {},
   "source": [
    "**2.** Заменить максимальный элемент случайного массива на 0"
   ]
  },
  {
   "cell_type": "code",
   "execution_count": 4,
   "id": "f2788a6e",
   "metadata": {},
   "outputs": [
    {
     "data": {
      "text/plain": [
       "array([-6.54638139,  1.27003665,  2.48345063,  0.        , -5.61358312,\n",
       "        2.79302274, -4.64734012,  2.52197435,  1.14896786,  0.2018995 ])"
      ]
     },
     "execution_count": 4,
     "metadata": {},
     "output_type": "execute_result"
    }
   ],
   "source": [
    "arr = np.where(arr == np.amax(arr), 0, arr)\n",
    "arr"
   ]
  },
  {
   "cell_type": "markdown",
   "id": "3e2865b1",
   "metadata": {},
   "source": [
    "Дан двумерный массив"
   ]
  },
  {
   "cell_type": "code",
   "execution_count": 5,
   "id": "46352874",
   "metadata": {},
   "outputs": [
    {
     "data": {
      "text/plain": [
       "array([[7.973432  , 5.12300138, 8.62057866],\n",
       "       [3.8534493 , 3.70361377, 2.99166593]])"
      ]
     },
     "execution_count": 5,
     "metadata": {},
     "output_type": "execute_result"
    }
   ],
   "source": [
    "matrix = 10 * np.random.sample((2, 3))\n",
    "matrix"
   ]
  },
  {
   "cell_type": "markdown",
   "id": "3cac656b",
   "metadata": {},
   "source": [
    "**3.** Построить прямое произведение массивов (все комбинации с каждым элементом). На вход подается двумерный массив"
   ]
  },
  {
   "cell_type": "code",
   "execution_count": 6,
   "id": "3396b764",
   "metadata": {},
   "outputs": [
    {
     "data": {
      "text/plain": [
       "array([[7.973432  , 3.8534493 ],\n",
       "       [5.12300138, 3.8534493 ],\n",
       "       [8.62057866, 3.8534493 ],\n",
       "       [7.973432  , 3.70361377],\n",
       "       [5.12300138, 3.70361377],\n",
       "       [8.62057866, 3.70361377],\n",
       "       [7.973432  , 2.99166593],\n",
       "       [5.12300138, 2.99166593],\n",
       "       [8.62057866, 2.99166593]])"
      ]
     },
     "execution_count": 6,
     "metadata": {},
     "output_type": "execute_result"
    }
   ],
   "source": [
    "res = np.transpose([np.tile(matrix[0], matrix[1].size), np.repeat(matrix[1], matrix[0].size)])\n",
    "res"
   ]
  },
  {
   "cell_type": "markdown",
   "id": "674c9354",
   "metadata": {},
   "source": [
    "**4.** Даны 2 массива A (8x3) и B (2x2). Найти строки в A, которые содержат элементы из каждой строки в B, независимо от порядка элементов в B"
   ]
  },
  {
   "cell_type": "code",
   "execution_count": 7,
   "id": "c75eef8f",
   "metadata": {
    "scrolled": true
   },
   "outputs": [
    {
     "name": "stdout",
     "output_type": "stream",
     "text": [
      "[[4 5 9]\n",
      " [8 3 6]\n",
      " [1 0 4]\n",
      " [5 6 8]\n",
      " [9 5 8]\n",
      " [2 9 3]\n",
      " [1 2 7]\n",
      " [5 9 3]]\n",
      "[[4 3]\n",
      " [5 6]]\n",
      "[[4 5 9]\n",
      " [8 3 6]\n",
      " [5 9 3]]\n"
     ]
    }
   ],
   "source": [
    "a = np.random.randint(10, size=(8,3))\n",
    "b = np.random.randint(10, size=(2, 2))\n",
    "print(a)\n",
    "print(b)\n",
    "\n",
    "c = (a == b[..., np.newaxis, np.newaxis])\n",
    "num_of_includes_for_each_row = (c.sum(axis=(1, 3)) != 0)\n",
    "\n",
    "print(a[num_of_includes_for_each_row.all(0)])"
   ]
  },
  {
   "cell_type": "markdown",
   "id": "fa46533b",
   "metadata": {},
   "source": [
    "**5.** Дана 10x3 матрица, найти строки из неравных значений (например строка [2,2,3] остается, строка [3,3,3] удаляется)"
   ]
  },
  {
   "cell_type": "code",
   "execution_count": 8,
   "id": "fa545b23",
   "metadata": {},
   "outputs": [
    {
     "name": "stdout",
     "output_type": "stream",
     "text": [
      "Before: \n",
      "[[1 0 0]\n",
      " [1 0 1]\n",
      " [1 0 0]\n",
      " [1 0 1]\n",
      " [0 1 0]\n",
      " [1 0 1]\n",
      " [0 0 0]\n",
      " [0 1 0]\n",
      " [1 1 1]\n",
      " [0 0 0]]\n",
      "After: \n",
      "[[1 0 0]\n",
      " [1 0 1]\n",
      " [1 0 0]\n",
      " [1 0 1]\n",
      " [0 1 0]\n",
      " [1 0 1]\n",
      " [0 1 0]]\n"
     ]
    }
   ],
   "source": [
    "matrix = np.random.randint(2, size=(10, 3))\n",
    "print(f\"Before: \\n{matrix}\")\n",
    "\n",
    "print(f\"After: \\n{matrix[(matrix[:,1] != matrix[:,0]) | (matrix[:, 1] != matrix[:, 2]) | (matrix[:, 1] != matrix[:, 2])]}\")"
   ]
  },
  {
   "cell_type": "markdown",
   "id": "28f0d116",
   "metadata": {},
   "source": [
    "**6.** Дан двумерный массив. Удалить те строки, которые повторяются"
   ]
  },
  {
   "cell_type": "code",
   "execution_count": 9,
   "id": "83d2c0b7",
   "metadata": {},
   "outputs": [
    {
     "name": "stdout",
     "output_type": "stream",
     "text": [
      "Before: \n",
      "[[0 1 0]\n",
      " [0 0 0]\n",
      " [1 1 0]\n",
      " [0 1 0]\n",
      " [1 0 0]]\n",
      "After: \n",
      "[[0 0 0]\n",
      " [0 1 0]\n",
      " [1 0 0]\n",
      " [1 1 0]]\n"
     ]
    }
   ],
   "source": [
    "matrix = np.random.randint(2, size=(5, 3))\n",
    "print(f\"Before: \\n{matrix}\")\n",
    "\n",
    "matrix = np.unique(matrix, axis=0)\n",
    "print(f\"After: \\n{matrix}\")"
   ]
  },
  {
   "cell_type": "markdown",
   "id": "6daa9e37",
   "metadata": {},
   "source": [
    "______\n",
    "______"
   ]
  },
  {
   "cell_type": "markdown",
   "id": "cfbfcaff",
   "metadata": {},
   "source": [
    "Для каждой из следующих задач (1-5) нужно привести 2 реализации – одна без использования numpy (cчитайте, что там, где на входе или выходе должны быть numpy array, будут просто списки), а вторая полностью векторизованная с использованием numpy (без использования питоновских циклов/map/list comprehension).\n",
    "\n",
    "\n",
    "__Замечание 1.__ Можно считать, что все указанные объекты непустые (к примеру, в __задаче 1__ на диагонали матрицы есть ненулевые элементы).\n",
    "\n",
    "__Замечание 2.__ Для большинства задач решение занимает не больше 1-2 строк."
   ]
  },
  {
   "cell_type": "markdown",
   "id": "673cac7f",
   "metadata": {},
   "source": [
    "___"
   ]
  },
  {
   "cell_type": "markdown",
   "id": "ca6f585e",
   "metadata": {},
   "source": [
    "* __Задача 1__: Подсчитать произведение ненулевых элементов на диагонали прямоугольной матрицы.  \n",
    " Например, для X = np.array([[1, 0, 1], [2, 0, 2], [3, 0, 3], [4, 4, 4]]) ответ 3."
   ]
  },
  {
   "cell_type": "code",
   "execution_count": 10,
   "id": "4723aa1f",
   "metadata": {},
   "outputs": [
    {
     "data": {
      "text/plain": [
       "3"
      ]
     },
     "execution_count": 10,
     "metadata": {},
     "output_type": "execute_result"
    }
   ],
   "source": [
    "x = [[1, 0, 1], [2, 0, 2], [3, 0, 3], [4, 4, 4]]\n",
    "\n",
    "# check size\n",
    "m = len(x)\n",
    "n = len(x[0])\n",
    "\n",
    "mult = 1\n",
    "for i in range(min(m, n)):\n",
    "    if x[i][i] != 0:\n",
    "        mult *= x[i][i]\n",
    "        \n",
    "mult"
   ]
  },
  {
   "cell_type": "code",
   "execution_count": 11,
   "id": "065862fc",
   "metadata": {},
   "outputs": [
    {
     "data": {
      "text/plain": [
       "3"
      ]
     },
     "execution_count": 11,
     "metadata": {},
     "output_type": "execute_result"
    }
   ],
   "source": [
    "x = np.array([[1, 0, 1], [2, 0, 2], [3, 0, 3], [4, 4, 4]])\n",
    "\n",
    "np.prod(np.where(np.diag(x) != 0, np.diag(x), 1))"
   ]
  },
  {
   "cell_type": "markdown",
   "id": "9fc51d41",
   "metadata": {},
   "source": [
    "* __Задача 2__: Даны два вектора x и y. Проверить, задают ли они одно и то же мультимножество.  \n",
    "  Например, для x = np.array([1, 2, 2, 4]), y = np.array([4, 2, 1, 2]) ответ True."
   ]
  },
  {
   "cell_type": "code",
   "execution_count": 12,
   "id": "3837af70",
   "metadata": {},
   "outputs": [
    {
     "data": {
      "text/plain": [
       "True"
      ]
     },
     "execution_count": 12,
     "metadata": {},
     "output_type": "execute_result"
    }
   ],
   "source": [
    "# Complexity: O(n)\n",
    "import collections\n",
    "\n",
    "x = [1, 2, 2, 4]\n",
    "y = [4, 2, 1, 2]\n",
    "\n",
    "collections.Counter(x) == collections.Counter(y)"
   ]
  },
  {
   "cell_type": "code",
   "execution_count": 13,
   "id": "a809e02f",
   "metadata": {},
   "outputs": [
    {
     "data": {
      "text/plain": [
       "True"
      ]
     },
     "execution_count": 13,
     "metadata": {},
     "output_type": "execute_result"
    }
   ],
   "source": [
    "x = np.array([1, 2, 2, 4])\n",
    "y = np.array([4, 2, 1, 2])\n",
    "\n",
    "np.array_equal(np.sort(x), np.sort(y))"
   ]
  },
  {
   "cell_type": "markdown",
   "id": "b9c185c7",
   "metadata": {},
   "source": [
    "* __Задача 3__: Найти максимальный элемент в векторе x среди элементов, перед которыми стоит ноль. \n",
    " Например, для x = np.array([6, 2, 0, 3, 0, 0, 5, 7, 0]) ответ 5."
   ]
  },
  {
   "cell_type": "code",
   "execution_count": 14,
   "id": "818a627d",
   "metadata": {},
   "outputs": [
    {
     "data": {
      "text/plain": [
       "5"
      ]
     },
     "execution_count": 14,
     "metadata": {},
     "output_type": "execute_result"
    }
   ],
   "source": [
    "x = [6, 2, 0, 3, 0, 0, 5, 7, 0]\n",
    "\n",
    "max_value = float('-inf')\n",
    "for i in range(len(x) - 1):\n",
    "    if x[i] == 0:\n",
    "        max_value = max(max_value, x[i + 1])\n",
    "\n",
    "max_value"
   ]
  },
  {
   "cell_type": "code",
   "execution_count": 15,
   "id": "b57df008",
   "metadata": {},
   "outputs": [
    {
     "data": {
      "text/plain": [
       "5"
      ]
     },
     "execution_count": 15,
     "metadata": {},
     "output_type": "execute_result"
    }
   ],
   "source": [
    "x = np.array([6, 2, 0, 3, 0, 0, 5, 7, 0])\n",
    "             \n",
    "condition = np.where(x[:-1] == 0)\n",
    "np.max(x[condition[0] + 1])"
   ]
  },
  {
   "cell_type": "markdown",
   "id": "480be4ce",
   "metadata": {},
   "source": [
    "* __Задача 4__: Реализовать кодирование длин серий (Run-length encoding). Для некоторого вектора x необходимо вернуть кортеж из двух векторов одинаковой длины. Первый содержит числа, а второй - сколько раз их нужно повторить.  \n",
    " Например, для x = np.array([2, 2, 2, 3, 3, 3, 5]) ответ (np.array([2, 3, 5]), np.array([3, 3, 1]))."
   ]
  },
  {
   "cell_type": "code",
   "execution_count": 16,
   "id": "bdafcac9",
   "metadata": {},
   "outputs": [
    {
     "data": {
      "text/plain": [
       "([2, 3, 5], [3, 3, 1])"
      ]
     },
     "execution_count": 16,
     "metadata": {},
     "output_type": "execute_result"
    }
   ],
   "source": [
    "import collections\n",
    "\n",
    "x = [2, 2, 2, 3, 3, 3, 5]\n",
    "\n",
    "freq = {}\n",
    "for el in x:\n",
    "    if el in freq:\n",
    "        freq[el] += 1\n",
    "    else:\n",
    "        freq[el] = 1\n",
    "\n",
    "(list(freq.keys()), list(freq.values()))\n"
   ]
  },
  {
   "cell_type": "code",
   "execution_count": 17,
   "id": "3c592124",
   "metadata": {},
   "outputs": [
    {
     "data": {
      "text/plain": [
       "(array([2, 3, 5]), array([3, 3, 1]))"
      ]
     },
     "execution_count": 17,
     "metadata": {},
     "output_type": "execute_result"
    }
   ],
   "source": [
    "x = np.array([2, 2, 2, 3, 3, 3, 5])\n",
    "\n",
    "np.unique(x, return_counts=True)"
   ]
  },
  {
   "cell_type": "markdown",
   "id": "077532ec",
   "metadata": {},
   "source": [
    "* __Задача 5__: Даны две выборки объектов - X и Y. Вычислить матрицу евклидовых расстояний между объектами. Сравните с функцией scipy.spatial.distance.cdist по скорости работы."
   ]
  },
  {
   "cell_type": "code",
   "execution_count": 18,
   "id": "cacebddf",
   "metadata": {},
   "outputs": [],
   "source": [
    "from scipy.spatial import distance\n",
    "from math import sqrt"
   ]
  },
  {
   "cell_type": "code",
   "execution_count": 32,
   "id": "c693f8eb",
   "metadata": {},
   "outputs": [
    {
     "data": {
      "text/plain": [
       "[[7.0710678118654755, 5.656854249492381, 4.242640687119285],\n",
       " [5.656854249492381, 4.242640687119285, 2.8284271247461903],\n",
       " [4.242640687119285, 2.8284271247461903, 1.4142135623730951]]"
      ]
     },
     "execution_count": 32,
     "metadata": {},
     "output_type": "execute_result"
    }
   ],
   "source": [
    "x = [(1, 1), (2, 2), (3, 3)]\n",
    "y = [(6, 6), (5, 5), (4, 4)]\n",
    "\n",
    "#distance.cdist(x, y, 'euclidean')\n",
    "\n",
    "n = len(x)\n",
    "matrix = [[None] * n for i in range(n)]\n",
    "\n",
    "for i in range(n):\n",
    "    for j in range(n):\n",
    "        matrix[i][j] = sqrt((x[i][0] - y[j][0]) * (x[i][0] - y[j][0]) + (x[i][1] - y[j][1]) * (x[i][1] - y[j][1]))\n",
    "\n",
    "matrix"
   ]
  },
  {
   "cell_type": "code",
   "execution_count": 20,
   "id": "1e807797",
   "metadata": {},
   "outputs": [
    {
     "data": {
      "text/plain": [
       "array([[7.07106781, 5.65685425, 4.24264069],\n",
       "       [5.65685425, 4.24264069, 2.82842712],\n",
       "       [4.24264069, 2.82842712, 1.41421356]])"
      ]
     },
     "execution_count": 20,
     "metadata": {},
     "output_type": "execute_result"
    }
   ],
   "source": [
    "x = np.array([[1, 1], [2, 2], [3, 3]])\n",
    "y = np.array([[6, 6], [5, 5], [4, 4]])\n",
    "\n",
    "#np.linalg.norm(x - y, axis=1)\n",
    "\n",
    "squares = np.add.outer(np.sum(x * x, axis=1), np.sum(y * y, axis=1))\n",
    "two_mult = np.dot(x, y.T)\n",
    "\n",
    "# a^2 + b^2 + c^2 + d^2 - 2(ac + bd) == (a - c)^2 + (b - d)^2\n",
    "np.sqrt(squares - 2 * two_mult)"
   ]
  },
  {
   "cell_type": "markdown",
   "id": "2e2c4c98",
   "metadata": {},
   "source": [
    "Let's check time:"
   ]
  },
  {
   "cell_type": "code",
   "execution_count": 21,
   "id": "ce121d8f",
   "metadata": {},
   "outputs": [],
   "source": [
    "from timeit import default_timer as timer"
   ]
  },
  {
   "cell_type": "markdown",
   "id": "0da1e925",
   "metadata": {},
   "source": [
    "Using **scipy.spatial.distance.cdist**:"
   ]
  },
  {
   "cell_type": "code",
   "execution_count": 22,
   "id": "db5f9fb2",
   "metadata": {},
   "outputs": [
    {
     "name": "stdout",
     "output_type": "stream",
     "text": [
      "Time: 8.689600053912727e-05\n"
     ]
    }
   ],
   "source": [
    "start = timer()\n",
    "distance.cdist(x, y, 'euclidean')\n",
    "end = timer()\n",
    "\n",
    "print(f\"Time: {end - start}\")"
   ]
  },
  {
   "cell_type": "markdown",
   "id": "42630872",
   "metadata": {},
   "source": [
    "Using **NumPy**:"
   ]
  },
  {
   "cell_type": "code",
   "execution_count": 23,
   "id": "60137abd",
   "metadata": {},
   "outputs": [
    {
     "name": "stdout",
     "output_type": "stream",
     "text": [
      "Time: 0.0001491129996793461\n"
     ]
    }
   ],
   "source": [
    "x = np.array([[1, 1], [2, 2], [3, 3]])\n",
    "y = np.array([[6, 6], [5, 5], [4, 4]])\n",
    "\n",
    "start = timer()\n",
    "np.linalg.norm(x - y, axis=1)\n",
    "end = timer()\n",
    "\n",
    "print(f\"Time: {end - start}\")"
   ]
  },
  {
   "cell_type": "markdown",
   "id": "973e8064",
   "metadata": {},
   "source": [
    "_______\n",
    "________"
   ]
  },
  {
   "cell_type": "markdown",
   "id": "1104acb7",
   "metadata": {},
   "source": [
    "* #### __Задача 6__: CrunchieMunchies __*__\n",
    "\n",
    "Вы работаете в отделе маркетинга пищевой компании MyCrunch, которая разрабатывает новый вид вкусных, полезных злаков под названием **CrunchieMunchies**.\n",
    "\n",
    "Вы хотите продемонстрировать потребителям, насколько полезны ваши хлопья по сравнению с другими ведущими брендами, поэтому вы собрали данные о питании нескольких разных конкурентов.\n",
    "\n",
    "Ваша задача - использовать вычисления Numpy для анализа этих данных и доказать, что ваши **СrunchieMunchies** - самый здоровый выбор для потребителей.\n"
   ]
  },
  {
   "cell_type": "code",
   "execution_count": 24,
   "id": "10a77f8d",
   "metadata": {},
   "outputs": [],
   "source": [
    "import numpy as np"
   ]
  },
  {
   "cell_type": "markdown",
   "id": "ab87cb03",
   "metadata": {},
   "source": [
    "1. Просмотрите файл cereal.csv. Этот файл содержит количества калорий для различных марок хлопьев. Загрузите данные из файла и сохраните их как calorie_stats."
   ]
  },
  {
   "cell_type": "code",
   "execution_count": 25,
   "id": "9681ebf2",
   "metadata": {},
   "outputs": [
    {
     "data": {
      "text/plain": [
       "array([ 70., 120.,  70.,  50., 110., 110., 110., 130.,  90.,  90., 120.,\n",
       "       110., 120., 110., 110., 110., 100., 110., 110., 110., 100., 110.,\n",
       "       100., 100., 110., 110., 100., 120., 120., 110., 100., 110., 100.,\n",
       "       110., 120., 120., 110., 110., 110., 140., 110., 100., 110., 100.,\n",
       "       150., 150., 160., 100., 120., 140.,  90., 130., 120., 100.,  50.,\n",
       "        50., 100., 100., 120., 100.,  90., 110., 110.,  80.,  90.,  90.,\n",
       "       110., 110.,  90., 110., 140., 100., 110., 110., 100., 100., 110.])"
      ]
     },
     "execution_count": 25,
     "metadata": {},
     "output_type": "execute_result"
    }
   ],
   "source": [
    "calorie_stats = np.loadtxt(\"./data/cereal.csv\", delimiter=\",\")\n",
    "calorie_stats"
   ]
  },
  {
   "cell_type": "markdown",
   "id": "139cfbd8",
   "metadata": {},
   "source": [
    "2. В одной порции CrunchieMunchies содержится 60 калорий. Насколько выше среднее количество калорий у ваших конкурентов?\n",
    "\n",
    "Сохраните ответ в переменной average_calories и распечатайте переменную в терминале"
   ]
  },
  {
   "cell_type": "code",
   "execution_count": 26,
   "id": "7036d240",
   "metadata": {},
   "outputs": [
    {
     "name": "stdout",
     "output_type": "stream",
     "text": [
      "Average: 106.88311688311688\n",
      "Difference: 46.883116883116884\n"
     ]
    }
   ],
   "source": [
    "average_calories = np.average(calorie_stats)\n",
    "\n",
    "print(f\"Average: {average_calories}\")\n",
    "print(f\"Difference: {average_calories - 60}\")"
   ]
  },
  {
   "cell_type": "markdown",
   "id": "b2ddb4cd",
   "metadata": {},
   "source": [
    "3. Корректно ли среднее количество калорий отражает распределение набора данных? Давайте отсортируем данные и посмотрим.\n",
    "\n",
    "Отсортируйте данные и сохраните результат в переменной calorie_stats_sorted. Распечатайте отсортированную информацию"
   ]
  },
  {
   "cell_type": "code",
   "execution_count": 27,
   "id": "46eeb4ed",
   "metadata": {},
   "outputs": [
    {
     "data": {
      "text/plain": [
       "array([ 50.,  50.,  50.,  70.,  70.,  80.,  90.,  90.,  90.,  90.,  90.,\n",
       "        90.,  90., 100., 100., 100., 100., 100., 100., 100., 100., 100.,\n",
       "       100., 100., 100., 100., 100., 100., 100., 100., 110., 110., 110.,\n",
       "       110., 110., 110., 110., 110., 110., 110., 110., 110., 110., 110.,\n",
       "       110., 110., 110., 110., 110., 110., 110., 110., 110., 110., 110.,\n",
       "       110., 110., 110., 110., 120., 120., 120., 120., 120., 120., 120.,\n",
       "       120., 120., 120., 130., 130., 140., 140., 140., 150., 150., 160.])"
      ]
     },
     "execution_count": 27,
     "metadata": {},
     "output_type": "execute_result"
    }
   ],
   "source": [
    "calorie_stats_sorted = np.sort(calorie_stats)\n",
    "calorie_stats_sorted"
   ]
  },
  {
   "cell_type": "markdown",
   "id": "4dc74116",
   "metadata": {},
   "source": [
    "4. Похоже, что большинство значений выше среднего. Давайте посмотрим, является ли медиана наиболее корректным показателем набора данных.\n",
    "\n",
    "Вычислите медиану набора данных и сохраните свой ответ в median_calories. Выведите медиану, чтобы вы могли видеть, как она сравнивается со средним значением."
   ]
  },
  {
   "cell_type": "code",
   "execution_count": 28,
   "id": "b56627c3",
   "metadata": {},
   "outputs": [
    {
     "data": {
      "text/plain": [
       "110.0"
      ]
     },
     "execution_count": 28,
     "metadata": {},
     "output_type": "execute_result"
    }
   ],
   "source": [
    "median_calories = np.median(calorie_stats)\n",
    "median_calories"
   ]
  },
  {
   "cell_type": "markdown",
   "id": "a63ab72f",
   "metadata": {},
   "source": [
    "5. В то время как медиана показывает, что по крайней мере половина наших значений составляет более 100 калорий, было бы более впечатляюще показать, что значительная часть конкурентов имеет более высокое количество калорий, чем CrunchieMunchies.\n",
    "\n",
    "Рассчитайте различные процентили и распечатайте их, пока не найдете наименьший процентиль, превышающий 60 калорий. Сохраните это значение в переменной nth_percentile."
   ]
  },
  {
   "cell_type": "code",
   "execution_count": 29,
   "id": "fe80ce03",
   "metadata": {},
   "outputs": [
    {
     "data": {
      "text/plain": [
       "4"
      ]
     },
     "execution_count": 29,
     "metadata": {},
     "output_type": "execute_result"
    }
   ],
   "source": [
    "nth_percentile = 0\n",
    "while np.percentile(calorie_stats, nth_percentile) <= 60:\n",
    "    nth_percentile += 1\n",
    "\n",
    "nth_percentile"
   ]
  },
  {
   "cell_type": "markdown",
   "id": "a2a3c5aa",
   "metadata": {},
   "source": [
    "6. Хотя процентиль показывает нам, что у большинства конкурентов количество калорий намного выше, это неудобная концепция для использования в маркетинговых материалах.\n",
    "\n",
    "Вместо этого давайте подсчитаем процент хлопьев, в которых содержится более 60 калорий на порцию. Сохраните свой ответ в переменной more_calories и распечатайте его"
   ]
  },
  {
   "cell_type": "code",
   "execution_count": 30,
   "id": "ade0f6ea",
   "metadata": {},
   "outputs": [
    {
     "data": {
      "text/plain": [
       "0.961038961038961"
      ]
     },
     "execution_count": 30,
     "metadata": {},
     "output_type": "execute_result"
    }
   ],
   "source": [
    "more_calories = calorie_stats[calorie_stats > 60].size / calorie_stats.size\n",
    "more_calories"
   ]
  },
  {
   "cell_type": "markdown",
   "id": "1735d65b",
   "metadata": {},
   "source": [
    "7. Это действительно высокий процент. Это будет очень полезно, когда мы будем продвигать CrunchieMunchies. Но один вопрос заключается в том, насколько велики различия в наборе данных? Можем ли мы сделать обобщение, что в большинстве злаков содержится около 100 калорий или разброс еще больше?\n",
    "\n",
    "Рассчитайте величину отклонения, найдя стандартное отклонение, Сохраните свой ответ в calorie_std и распечатайте на терминале. Как мы можем включить эту ценность в наш анализ?"
   ]
  },
  {
   "cell_type": "code",
   "execution_count": 31,
   "id": "85c8df1f",
   "metadata": {},
   "outputs": [
    {
     "name": "stdout",
     "output_type": "stream",
     "text": [
      "19.35718533390827\n"
     ]
    },
    {
     "data": {
      "text/plain": [
       "0.8181818181818182"
      ]
     },
     "execution_count": 31,
     "metadata": {},
     "output_type": "execute_result"
    }
   ],
   "source": [
    "calorie_std = np.std(calorie_stats)\n",
    "print(calorie_std)\n",
    "\n",
    "m = calorie_stats.mean()\n",
    "calorie_stats[abs(calorie_stats  - m) < calorie_std].size / calorie_stats.size"
   ]
  },
  {
   "cell_type": "markdown",
   "id": "037455c5",
   "metadata": {},
   "source": [
    "8. Напишите короткий абзац, в котором кратко изложите свои выводы и то, как, по вашему мнению, эти данные могут быть использованы в интересах Mycrunch при маркетинге CrunchieMunchies."
   ]
  },
  {
   "cell_type": "markdown",
   "id": "0ada7be3",
   "metadata": {},
   "source": [
    "Калорийность CrunchieMunchies ниже среднего, что должно порадовать потенциального покупателя. Однако, среднее значение часто не отражает реальной картины из-за возможных выбросов. В таком случае имеет смысл рассмотреть медиану. Заметим, что как минимум половина конкурентов проигрывает CrunchieMunchies, но медиана так же может оказаться довольно спорным показателем в случае выбросов, только уже как в большую, так и в меньшую стороны. Рассчитанный нами процентиль уже можно считать довольно весомым аргументом в пользу нашего продукта, но, как отмечалось выше, это неудобная концепция для использования в маркетинговых материалах. Идеальным фактором для обычного покупателя станет заявление о том, что калорийность CrunchieMunchies меньше, чему у 96% хлопьев других марок.\n",
    "\n",
    "Отметим так же, что стандартное отклонение невелико, и, как оказалось, среднее значение неплохо отражает реальную картину."
   ]
  }
 ],
 "metadata": {
  "kernelspec": {
   "display_name": "Python 3 (ipykernel)",
   "language": "python",
   "name": "python3"
  },
  "language_info": {
   "codemirror_mode": {
    "name": "ipython",
    "version": 3
   },
   "file_extension": ".py",
   "mimetype": "text/x-python",
   "name": "python",
   "nbconvert_exporter": "python",
   "pygments_lexer": "ipython3",
   "version": "3.8.10"
  }
 },
 "nbformat": 4,
 "nbformat_minor": 5
}
